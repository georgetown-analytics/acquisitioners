{
 "cells": [
  {
   "cell_type": "code",
   "execution_count": 1,
   "id": "bd7066af",
   "metadata": {},
   "outputs": [],
   "source": [
    "import pandas as pd\n",
    "import numpy as np\n",
    "import pandas.io.sql as sqlio\n",
    "import psycopg2\n",
    "import matplotlib.pyplot as plt\n",
    "from scipy.spatial.distance import cdist\n",
    "from sklearn.feature_extraction.text import TfidfVectorizer\n",
    "import datetime\n",
    "from sklearn.cluster import KMeans\n",
    "from sklearn import metrics\n",
    "import matplotlib.pyplot as plt\n",
    "import nltk\n",
    "from nltk.corpus import stopwords\n",
    "from sklearn.pipeline import Pipeline\n",
    "from nltk.tokenize import sent_tokenize, word_tokenize\n",
    "from sklearn.decomposition import TruncatedSVD\n",
    "#https://scikit-learn.org/stable/modules/generated/sklearn.cluster.MiniBatchKMeans.html\n",
    "#sklearn.cluster.MiniBatchKMeans\n",
    "from sklearn.cluster import MiniBatchKMeans\n",
    "stop = stopwords.words('english')\n",
    "now = datetime.datetime.now()"
   ]
  },
  {
   "cell_type": "code",
   "execution_count": 2,
   "id": "11bc5332",
   "metadata": {},
   "outputs": [],
   "source": [
    "conn = psycopg2.connect(user=\"xxxxx\", password=\"xxxx\", host=\"xxxx\", database=\"Ingestion\")"
   ]
  },
  {
   "cell_type": "code",
   "execution_count": 3,
   "id": "10719467",
   "metadata": {},
   "outputs": [
    {
     "name": "stderr",
     "output_type": "stream",
     "text": [
      "C:\\Users\\schre\\anaconda3\\lib\\site-packages\\pandas\\io\\sql.py:761: UserWarning: pandas only support SQLAlchemy connectable(engine/connection) ordatabase string URI or sqlite3 DBAPI2 connectionother DBAPI2 objects are not tested, please consider using SQLAlchemy\n",
      "  warnings.warn(\n"
     ]
    }
   ],
   "source": [
    "query = \"select * from itc_obs_0421_savecheck3\"\n",
    "#execute query and save it to a variable\n",
    "dataset = sqlio.read_sql_query(query,conn)"
   ]
  },
  {
   "cell_type": "code",
   "execution_count": 4,
   "id": "00a82da3",
   "metadata": {},
   "outputs": [
    {
     "data": {
      "text/plain": [
       "(528640, 39)"
      ]
     },
     "execution_count": 4,
     "metadata": {},
     "output_type": "execute_result"
    }
   ],
   "source": [
    "pd.set_option('display.max_columns', None)\n",
    "dataset.head()\n",
    "dataset.shape"
   ]
  },
  {
   "cell_type": "code",
   "execution_count": 5,
   "id": "72497434",
   "metadata": {},
   "outputs": [],
   "source": [
    "df = dataset[['dollars_obligated','description_of_requirement','level_2_category','level_3_category','co_bus_size_determination',\n",
    "                   'business_rule_tier','contract_name']]"
   ]
  },
  {
   "cell_type": "code",
   "execution_count": 6,
   "id": "616021e3",
   "metadata": {},
   "outputs": [],
   "source": [
    "df = df.astype({'level_2_category': str})\n",
    "df = df.astype({'level_3_category': str})\n",
    "df = df.astype({'co_bus_size_determination': str})\n",
    "df = df.astype({'contract_name': str})\n",
    "df = df.astype({'level_3_category': str})\n",
    "df = df.astype({'description_of_requirement': str})"
   ]
  },
  {
   "cell_type": "code",
   "execution_count": 7,
   "id": "39175171",
   "metadata": {},
   "outputs": [],
   "source": [
    "df[\"req\"] = df[['description_of_requirement','level_2_category','level_3_category','co_bus_size_determination',\n",
    "                   'business_rule_tier','contract_name']].apply(lambda x: ' '.join(x), axis = 1)"
   ]
  },
  {
   "cell_type": "code",
   "execution_count": 8,
   "id": "1e5ad4b5",
   "metadata": {},
   "outputs": [
    {
     "data": {
      "text/plain": [
       "dtype('O')"
      ]
     },
     "execution_count": 8,
     "metadata": {},
     "output_type": "execute_result"
    }
   ],
   "source": [
    "df['req'].dtypes"
   ]
  },
  {
   "cell_type": "code",
   "execution_count": 9,
   "id": "998de2c6",
   "metadata": {},
   "outputs": [
    {
     "name": "stderr",
     "output_type": "stream",
     "text": [
      "C:\\Users\\schre\\AppData\\Local\\Temp\\ipykernel_30856\\2796696168.py:3: FutureWarning: The default value of regex will change from True to False in a future version. In addition, single character regular expressions will *not* be treated as literal strings when regex=True.\n",
      "  df[\"req\"] = df.req.str.replace('.', '')\n"
     ]
    }
   ],
   "source": [
    "#Convert Column to all lower case, strip punctuation marks\n",
    "df[\"req\"] = df.req.str.replace(',', '')\n",
    "df[\"req\"] = df.req.str.replace('.', '')\n",
    "df[\"req\"] = df[\"req\"].str.lower()"
   ]
  },
  {
   "cell_type": "code",
   "execution_count": 10,
   "id": "d1e52eee",
   "metadata": {},
   "outputs": [
    {
     "data": {
      "text/html": [
       "<div>\n",
       "<style scoped>\n",
       "    .dataframe tbody tr th:only-of-type {\n",
       "        vertical-align: middle;\n",
       "    }\n",
       "\n",
       "    .dataframe tbody tr th {\n",
       "        vertical-align: top;\n",
       "    }\n",
       "\n",
       "    .dataframe thead th {\n",
       "        text-align: right;\n",
       "    }\n",
       "</style>\n",
       "<table border=\"1\" class=\"dataframe\">\n",
       "  <thead>\n",
       "    <tr style=\"text-align: right;\">\n",
       "      <th></th>\n",
       "      <th>dollars_obligated</th>\n",
       "      <th>description_of_requirement</th>\n",
       "      <th>level_2_category</th>\n",
       "      <th>level_3_category</th>\n",
       "      <th>co_bus_size_determination</th>\n",
       "      <th>business_rule_tier</th>\n",
       "      <th>contract_name</th>\n",
       "      <th>req</th>\n",
       "    </tr>\n",
       "  </thead>\n",
       "  <tbody>\n",
       "    <tr>\n",
       "      <th>0</th>\n",
       "      <td>0.0</td>\n",
       "      <td>DHS BULK CLOSE OUT</td>\n",
       "      <td>Capability As a Service</td>\n",
       "      <td>Network</td>\n",
       "      <td>OTHER THAN SMALL BUSINESS</td>\n",
       "      <td>TIER 2</td>\n",
       "      <td>SCHEDULE 70 - INFORMATION TECHNOLOGY</td>\n",
       "      <td>dhs bulk close out capability as a service net...</td>\n",
       "    </tr>\n",
       "    <tr>\n",
       "      <th>1</th>\n",
       "      <td>0.0</td>\n",
       "      <td>ITAS SUPPORT SERVICES</td>\n",
       "      <td>IT Professional Services</td>\n",
       "      <td>IT Management</td>\n",
       "      <td>SMALL BUSINESS</td>\n",
       "      <td>TIER 2</td>\n",
       "      <td>SCHEDULE 70 - INFORMATION TECHNOLOGY</td>\n",
       "      <td>itas support services it professional services...</td>\n",
       "    </tr>\n",
       "    <tr>\n",
       "      <th>2</th>\n",
       "      <td>0.0</td>\n",
       "      <td>WIRELESS SERVICE</td>\n",
       "      <td>IT Professional Services</td>\n",
       "      <td>Network</td>\n",
       "      <td>OTHER THAN SMALL BUSINESS</td>\n",
       "      <td>TIER 2</td>\n",
       "      <td>SCHEDULE 70 - INFORMATION TECHNOLOGY</td>\n",
       "      <td>wireless service it professional services netw...</td>\n",
       "    </tr>\n",
       "    <tr>\n",
       "      <th>3</th>\n",
       "      <td>0.0</td>\n",
       "      <td>PERFORMANCE PERIOD:  10/24/18-09/30/19DOJ FBI ...</td>\n",
       "      <td>Capability As a Service</td>\n",
       "      <td>Network</td>\n",
       "      <td>OTHER THAN SMALL BUSINESS</td>\n",
       "      <td>TIER 2</td>\n",
       "      <td>SCHEDULE 70 - INFORMATION TECHNOLOGY</td>\n",
       "      <td>performance period:  10/24/18-09/30/19doj fbi ...</td>\n",
       "    </tr>\n",
       "    <tr>\n",
       "      <th>4</th>\n",
       "      <td>0.0</td>\n",
       "      <td>IGF::OT::IGF VERIZON WIRELESS FY19 RMB/ IOD</td>\n",
       "      <td>Capability As a Service</td>\n",
       "      <td>Network</td>\n",
       "      <td>OTHER THAN SMALL BUSINESS</td>\n",
       "      <td>TIER 2</td>\n",
       "      <td>SCHEDULE 70 - INFORMATION TECHNOLOGY</td>\n",
       "      <td>igf::ot::igf verizon wireless fy19 rmb/ iod ca...</td>\n",
       "    </tr>\n",
       "  </tbody>\n",
       "</table>\n",
       "</div>"
      ],
      "text/plain": [
       "   dollars_obligated                         description_of_requirement  \\\n",
       "0                0.0                                 DHS BULK CLOSE OUT   \n",
       "1                0.0                              ITAS SUPPORT SERVICES   \n",
       "2                0.0                                   WIRELESS SERVICE   \n",
       "3                0.0  PERFORMANCE PERIOD:  10/24/18-09/30/19DOJ FBI ...   \n",
       "4                0.0        IGF::OT::IGF VERIZON WIRELESS FY19 RMB/ IOD   \n",
       "\n",
       "           level_2_category level_3_category  co_bus_size_determination  \\\n",
       "0   Capability As a Service          Network  OTHER THAN SMALL BUSINESS   \n",
       "1  IT Professional Services    IT Management             SMALL BUSINESS   \n",
       "2  IT Professional Services          Network  OTHER THAN SMALL BUSINESS   \n",
       "3   Capability As a Service          Network  OTHER THAN SMALL BUSINESS   \n",
       "4   Capability As a Service          Network  OTHER THAN SMALL BUSINESS   \n",
       "\n",
       "  business_rule_tier                         contract_name  \\\n",
       "0             TIER 2  SCHEDULE 70 - INFORMATION TECHNOLOGY   \n",
       "1             TIER 2  SCHEDULE 70 - INFORMATION TECHNOLOGY   \n",
       "2             TIER 2  SCHEDULE 70 - INFORMATION TECHNOLOGY   \n",
       "3             TIER 2  SCHEDULE 70 - INFORMATION TECHNOLOGY   \n",
       "4             TIER 2  SCHEDULE 70 - INFORMATION TECHNOLOGY   \n",
       "\n",
       "                                                 req  \n",
       "0  dhs bulk close out capability as a service net...  \n",
       "1  itas support services it professional services...  \n",
       "2  wireless service it professional services netw...  \n",
       "3  performance period:  10/24/18-09/30/19doj fbi ...  \n",
       "4  igf::ot::igf verizon wireless fy19 rmb/ iod ca...  "
      ]
     },
     "execution_count": 10,
     "metadata": {},
     "output_type": "execute_result"
    }
   ],
   "source": [
    "df.head()"
   ]
  },
  {
   "cell_type": "code",
   "execution_count": 11,
   "id": "158294b6",
   "metadata": {},
   "outputs": [],
   "source": [
    "pipeline = Pipeline([\n",
    "    ('vect', TfidfVectorizer(tokenizer = word_tokenize, stop_words=stop))\n",
    "    \n",
    "])"
   ]
  },
  {
   "cell_type": "code",
   "execution_count": 12,
   "id": "a03040f0",
   "metadata": {},
   "outputs": [
    {
     "name": "stderr",
     "output_type": "stream",
     "text": [
      "C:\\Users\\schre\\anaconda3\\lib\\site-packages\\sklearn\\feature_extraction\\text.py:396: UserWarning: Your stop_words may be inconsistent with your preprocessing. Tokenizing the stop words generated tokens [\"'d\", \"'ll\", \"'re\", \"'s\", \"'ve\", 'could', 'might', 'must', \"n't\", 'need', 'sha', 'wo', 'would'] not in stop_words.\n",
      "  warnings.warn(\n"
     ]
    },
    {
     "data": {
      "text/plain": [
       "(528640, 158501)"
      ]
     },
     "execution_count": 12,
     "metadata": {},
     "output_type": "execute_result"
    }
   ],
   "source": [
    "# Assign the column I want to use as req then run it through the pipeline, fit and transform it\n",
    "\n",
    "\n",
    "req = df['req']\n",
    "X = pipeline.fit_transform(req)\n",
    "X.shape"
   ]
  },
  {
   "cell_type": "code",
   "execution_count": 13,
   "id": "ff52002e",
   "metadata": {},
   "outputs": [
    {
     "data": {
      "text/plain": [
       "<528640x158501 sparse matrix of type '<class 'numpy.float64'>'\n",
       "\twith 8500335 stored elements in Compressed Sparse Row format>"
      ]
     },
     "execution_count": 13,
     "metadata": {},
     "output_type": "execute_result"
    }
   ],
   "source": [
    "X"
   ]
  },
  {
   "cell_type": "code",
   "execution_count": 14,
   "id": "e50580a7",
   "metadata": {},
   "outputs": [],
   "source": [
    "svd = TruncatedSVD(n_components=2, n_iter=7, random_state=42)\n",
    "svd.fit(X)"
   ]
  },
  {
   "cell_type": "code",
   "execution_count": 15,
   "id": "c4fe2a54",
   "metadata": {},
   "outputs": [
    {
     "name": "stdout",
     "output_type": "stream",
     "text": [
      "0:01:29.063973\n"
     ]
    }
   ],
   "source": [
    "# manually fit on batches\n",
    "kmeans = MiniBatchKMeans(n_clusters=10,random_state=0,batch_size=60000)\n",
    "\n",
    "kmeans = kmeans.partial_fit(X[0:60000,:])\n",
    "kmeans = kmeans.partial_fit(X[60000:120000,:])\n",
    "kmeans = kmeans.partial_fit(X[120000:180000,:])\n",
    "kmeans = kmeans.partial_fit(X[180000:240000,:])\n",
    "kmeans = kmeans.partial_fit(X[240000:300000,:])\n",
    "kmeans = kmeans.partial_fit(X[300000:360000,:])\n",
    "kmeans = kmeans.partial_fit(X[360000:420000,:])\n",
    "kmeans = kmeans.partial_fit(X[420000:480000,:])\n",
    "kmeans = kmeans.partial_fit(X[480000:540000,:])\n",
    "\n",
    "print(datetime.datetime.now() - now)"
   ]
  },
  {
   "cell_type": "code",
   "execution_count": 16,
   "id": "cd4bcf35",
   "metadata": {},
   "outputs": [
    {
     "data": {
      "text/plain": [
       "array([4, 5, 4, ..., 5, 5, 5])"
      ]
     },
     "execution_count": 16,
     "metadata": {},
     "output_type": "execute_result"
    }
   ],
   "source": [
    "labels = kmeans.predict(X)\n",
    "labels"
   ]
  },
  {
   "cell_type": "code",
   "execution_count": 17,
   "id": "d2455819",
   "metadata": {},
   "outputs": [
    {
     "name": "stdout",
     "output_type": "stream",
     "text": [
      "0:01:31.598336\n",
      "----------------------------------------------------------\n",
      "----------------------------------------------------------\n",
      "Number of clusters: 10\n",
      "----------------------------------------------------------\n",
      "Number of noise points: 0\n"
     ]
    }
   ],
   "source": [
    "# Number of clusters in labels, ignoring noise if present.\n",
    "n_clusters_ = len(set(labels)) - (1 if -1 in labels else 0)\n",
    "n_noise_ = list(labels).count(-1)\n",
    "\n",
    "from collections import Counter\n",
    "clusters = Counter(labels)\n",
    "\n",
    "# print(labels)\n",
    "print(datetime.datetime.now() - now)\n",
    "print (\"----------------------------------------------------------\")\n",
    "# print(clusters)\n",
    "print (\"----------------------------------------------------------\")\n",
    "print('Number of clusters: %d' % n_clusters_)\n",
    "print(\"----------------------------------------------------------\")\n",
    "print('Number of noise points: %d' % n_noise_)"
   ]
  },
  {
   "cell_type": "code",
   "execution_count": 18,
   "id": "9a5378b7",
   "metadata": {},
   "outputs": [
    {
     "data": {
      "text/html": [
       "<div>\n",
       "<style scoped>\n",
       "    .dataframe tbody tr th:only-of-type {\n",
       "        vertical-align: middle;\n",
       "    }\n",
       "\n",
       "    .dataframe tbody tr th {\n",
       "        vertical-align: top;\n",
       "    }\n",
       "\n",
       "    .dataframe thead th {\n",
       "        text-align: right;\n",
       "    }\n",
       "</style>\n",
       "<table border=\"1\" class=\"dataframe\">\n",
       "  <thead>\n",
       "    <tr style=\"text-align: right;\">\n",
       "      <th></th>\n",
       "      <th>dollars_obligated</th>\n",
       "      <th>description_of_requirement</th>\n",
       "      <th>level_2_category</th>\n",
       "      <th>level_3_category</th>\n",
       "      <th>co_bus_size_determination</th>\n",
       "      <th>business_rule_tier</th>\n",
       "      <th>contract_name</th>\n",
       "      <th>req</th>\n",
       "      <th>clusters</th>\n",
       "    </tr>\n",
       "  </thead>\n",
       "  <tbody>\n",
       "    <tr>\n",
       "      <th>0</th>\n",
       "      <td>0.0</td>\n",
       "      <td>DHS BULK CLOSE OUT</td>\n",
       "      <td>Capability As a Service</td>\n",
       "      <td>Network</td>\n",
       "      <td>OTHER THAN SMALL BUSINESS</td>\n",
       "      <td>TIER 2</td>\n",
       "      <td>SCHEDULE 70 - INFORMATION TECHNOLOGY</td>\n",
       "      <td>dhs bulk close out capability as a service net...</td>\n",
       "      <td>4</td>\n",
       "    </tr>\n",
       "    <tr>\n",
       "      <th>1</th>\n",
       "      <td>0.0</td>\n",
       "      <td>ITAS SUPPORT SERVICES</td>\n",
       "      <td>IT Professional Services</td>\n",
       "      <td>IT Management</td>\n",
       "      <td>SMALL BUSINESS</td>\n",
       "      <td>TIER 2</td>\n",
       "      <td>SCHEDULE 70 - INFORMATION TECHNOLOGY</td>\n",
       "      <td>itas support services it professional services...</td>\n",
       "      <td>5</td>\n",
       "    </tr>\n",
       "    <tr>\n",
       "      <th>2</th>\n",
       "      <td>0.0</td>\n",
       "      <td>WIRELESS SERVICE</td>\n",
       "      <td>IT Professional Services</td>\n",
       "      <td>Network</td>\n",
       "      <td>OTHER THAN SMALL BUSINESS</td>\n",
       "      <td>TIER 2</td>\n",
       "      <td>SCHEDULE 70 - INFORMATION TECHNOLOGY</td>\n",
       "      <td>wireless service it professional services netw...</td>\n",
       "      <td>4</td>\n",
       "    </tr>\n",
       "    <tr>\n",
       "      <th>3</th>\n",
       "      <td>0.0</td>\n",
       "      <td>PERFORMANCE PERIOD:  10/24/18-09/30/19DOJ FBI ...</td>\n",
       "      <td>Capability As a Service</td>\n",
       "      <td>Network</td>\n",
       "      <td>OTHER THAN SMALL BUSINESS</td>\n",
       "      <td>TIER 2</td>\n",
       "      <td>SCHEDULE 70 - INFORMATION TECHNOLOGY</td>\n",
       "      <td>performance period:  10/24/18-09/30/19doj fbi ...</td>\n",
       "      <td>5</td>\n",
       "    </tr>\n",
       "    <tr>\n",
       "      <th>4</th>\n",
       "      <td>0.0</td>\n",
       "      <td>IGF::OT::IGF VERIZON WIRELESS FY19 RMB/ IOD</td>\n",
       "      <td>Capability As a Service</td>\n",
       "      <td>Network</td>\n",
       "      <td>OTHER THAN SMALL BUSINESS</td>\n",
       "      <td>TIER 2</td>\n",
       "      <td>SCHEDULE 70 - INFORMATION TECHNOLOGY</td>\n",
       "      <td>igf::ot::igf verizon wireless fy19 rmb/ iod ca...</td>\n",
       "      <td>4</td>\n",
       "    </tr>\n",
       "  </tbody>\n",
       "</table>\n",
       "</div>"
      ],
      "text/plain": [
       "   dollars_obligated                         description_of_requirement  \\\n",
       "0                0.0                                 DHS BULK CLOSE OUT   \n",
       "1                0.0                              ITAS SUPPORT SERVICES   \n",
       "2                0.0                                   WIRELESS SERVICE   \n",
       "3                0.0  PERFORMANCE PERIOD:  10/24/18-09/30/19DOJ FBI ...   \n",
       "4                0.0        IGF::OT::IGF VERIZON WIRELESS FY19 RMB/ IOD   \n",
       "\n",
       "           level_2_category level_3_category  co_bus_size_determination  \\\n",
       "0   Capability As a Service          Network  OTHER THAN SMALL BUSINESS   \n",
       "1  IT Professional Services    IT Management             SMALL BUSINESS   \n",
       "2  IT Professional Services          Network  OTHER THAN SMALL BUSINESS   \n",
       "3   Capability As a Service          Network  OTHER THAN SMALL BUSINESS   \n",
       "4   Capability As a Service          Network  OTHER THAN SMALL BUSINESS   \n",
       "\n",
       "  business_rule_tier                         contract_name  \\\n",
       "0             TIER 2  SCHEDULE 70 - INFORMATION TECHNOLOGY   \n",
       "1             TIER 2  SCHEDULE 70 - INFORMATION TECHNOLOGY   \n",
       "2             TIER 2  SCHEDULE 70 - INFORMATION TECHNOLOGY   \n",
       "3             TIER 2  SCHEDULE 70 - INFORMATION TECHNOLOGY   \n",
       "4             TIER 2  SCHEDULE 70 - INFORMATION TECHNOLOGY   \n",
       "\n",
       "                                                 req  clusters  \n",
       "0  dhs bulk close out capability as a service net...         4  \n",
       "1  itas support services it professional services...         5  \n",
       "2  wireless service it professional services netw...         4  \n",
       "3  performance period:  10/24/18-09/30/19doj fbi ...         5  \n",
       "4  igf::ot::igf verizon wireless fy19 rmb/ iod ca...         4  "
      ]
     },
     "execution_count": 18,
     "metadata": {},
     "output_type": "execute_result"
    }
   ],
   "source": [
    "# Add clusters label to DF\n",
    "df['clusters'] = labels\n",
    "df.head()"
   ]
  },
  {
   "cell_type": "code",
   "execution_count": 19,
   "id": "80ec23dc",
   "metadata": {
    "scrolled": true
   },
   "outputs": [
    {
     "ename": "TypeError",
     "evalue": "PCA does not support sparse input. See TruncatedSVD for a possible alternative.",
     "output_type": "error",
     "traceback": [
      "\u001b[1;31m---------------------------------------------------------------------------\u001b[0m",
      "\u001b[1;31mTypeError\u001b[0m                                 Traceback (most recent call last)",
      "Input \u001b[1;32mIn [19]\u001b[0m, in \u001b[0;36m<cell line: 11>\u001b[1;34m()\u001b[0m\n\u001b[0;32m      8\u001b[0m pca_num_components \u001b[38;5;241m=\u001b[39m \u001b[38;5;241m2\u001b[39m\n\u001b[0;32m      9\u001b[0m tsne_num_components \u001b[38;5;241m=\u001b[39m \u001b[38;5;241m2\u001b[39m\n\u001b[1;32m---> 11\u001b[0m reduced_data \u001b[38;5;241m=\u001b[39m \u001b[43mPCA\u001b[49m\u001b[43m(\u001b[49m\u001b[43mn_components\u001b[49m\u001b[38;5;241;43m=\u001b[39;49m\u001b[43mpca_num_components\u001b[49m\u001b[43m)\u001b[49m\u001b[38;5;241;43m.\u001b[39;49m\u001b[43mfit_transform\u001b[49m\u001b[43m(\u001b[49m\u001b[43mX\u001b[49m\u001b[43m)\u001b[49m\n\u001b[0;32m     12\u001b[0m \u001b[38;5;66;03m# print reduced_data\u001b[39;00m\n\u001b[0;32m     14\u001b[0m fig, ax \u001b[38;5;241m=\u001b[39m plt\u001b[38;5;241m.\u001b[39msubplots()\n",
      "File \u001b[1;32m~\\anaconda3\\lib\\site-packages\\sklearn\\decomposition\\_pca.py:407\u001b[0m, in \u001b[0;36mPCA.fit_transform\u001b[1;34m(self, X, y)\u001b[0m\n\u001b[0;32m    385\u001b[0m \u001b[38;5;28;01mdef\u001b[39;00m \u001b[38;5;21mfit_transform\u001b[39m(\u001b[38;5;28mself\u001b[39m, X, y\u001b[38;5;241m=\u001b[39m\u001b[38;5;28;01mNone\u001b[39;00m):\n\u001b[0;32m    386\u001b[0m     \u001b[38;5;124;03m\"\"\"Fit the model with X and apply the dimensionality reduction on X.\u001b[39;00m\n\u001b[0;32m    387\u001b[0m \n\u001b[0;32m    388\u001b[0m \u001b[38;5;124;03m    Parameters\u001b[39;00m\n\u001b[1;32m   (...)\u001b[0m\n\u001b[0;32m    405\u001b[0m \u001b[38;5;124;03m    C-ordered array, use 'np.ascontiguousarray'.\u001b[39;00m\n\u001b[0;32m    406\u001b[0m \u001b[38;5;124;03m    \"\"\"\u001b[39;00m\n\u001b[1;32m--> 407\u001b[0m     U, S, Vt \u001b[38;5;241m=\u001b[39m \u001b[38;5;28;43mself\u001b[39;49m\u001b[38;5;241;43m.\u001b[39;49m\u001b[43m_fit\u001b[49m\u001b[43m(\u001b[49m\u001b[43mX\u001b[49m\u001b[43m)\u001b[49m\n\u001b[0;32m    408\u001b[0m     U \u001b[38;5;241m=\u001b[39m U[:, : \u001b[38;5;28mself\u001b[39m\u001b[38;5;241m.\u001b[39mn_components_]\n\u001b[0;32m    410\u001b[0m     \u001b[38;5;28;01mif\u001b[39;00m \u001b[38;5;28mself\u001b[39m\u001b[38;5;241m.\u001b[39mwhiten:\n\u001b[0;32m    411\u001b[0m         \u001b[38;5;66;03m# X_new = X * V / S * sqrt(n_samples) = U * sqrt(n_samples)\u001b[39;00m\n",
      "File \u001b[1;32m~\\anaconda3\\lib\\site-packages\\sklearn\\decomposition\\_pca.py:425\u001b[0m, in \u001b[0;36mPCA._fit\u001b[1;34m(self, X)\u001b[0m\n\u001b[0;32m    422\u001b[0m \u001b[38;5;66;03m# Raise an error for sparse input.\u001b[39;00m\n\u001b[0;32m    423\u001b[0m \u001b[38;5;66;03m# This is more informative than the generic one raised by check_array.\u001b[39;00m\n\u001b[0;32m    424\u001b[0m \u001b[38;5;28;01mif\u001b[39;00m issparse(X):\n\u001b[1;32m--> 425\u001b[0m     \u001b[38;5;28;01mraise\u001b[39;00m \u001b[38;5;167;01mTypeError\u001b[39;00m(\n\u001b[0;32m    426\u001b[0m         \u001b[38;5;124m\"\u001b[39m\u001b[38;5;124mPCA does not support sparse input. See \u001b[39m\u001b[38;5;124m\"\u001b[39m\n\u001b[0;32m    427\u001b[0m         \u001b[38;5;124m\"\u001b[39m\u001b[38;5;124mTruncatedSVD for a possible alternative.\u001b[39m\u001b[38;5;124m\"\u001b[39m\n\u001b[0;32m    428\u001b[0m     )\n\u001b[0;32m    430\u001b[0m X \u001b[38;5;241m=\u001b[39m \u001b[38;5;28mself\u001b[39m\u001b[38;5;241m.\u001b[39m_validate_data(\n\u001b[0;32m    431\u001b[0m     X, dtype\u001b[38;5;241m=\u001b[39m[np\u001b[38;5;241m.\u001b[39mfloat64, np\u001b[38;5;241m.\u001b[39mfloat32], ensure_2d\u001b[38;5;241m=\u001b[39m\u001b[38;5;28;01mTrue\u001b[39;00m, copy\u001b[38;5;241m=\u001b[39m\u001b[38;5;28mself\u001b[39m\u001b[38;5;241m.\u001b[39mcopy\n\u001b[0;32m    432\u001b[0m )\n\u001b[0;32m    434\u001b[0m \u001b[38;5;66;03m# Handle n_components==None\u001b[39;00m\n",
      "\u001b[1;31mTypeError\u001b[0m: PCA does not support sparse input. See TruncatedSVD for a possible alternative."
     ]
    }
   ],
   "source": [
    "from sklearn.decomposition import PCA\n",
    "from sklearn.manifold import TSNE\n",
    "\n",
    "labels_color_map = {\n",
    "    0: '#20b2aa', 1: '#ff7373', 2: '#ffe4e1', 3: '#005073', 4: '#4d0404',\n",
    "    5: '#ccc0ba', 6: '#4700f9', 7: '#f6f900', 8: '#00f91d', 9: '#da8c49'\n",
    "}\n",
    "pca_num_components = 2\n",
    "tsne_num_components = 2\n",
    "\n",
    "reduced_data = PCA(n_components=pca_num_components).fit_transform(X)\n",
    "# print reduced_data\n",
    "\n",
    "fig, ax = plt.subplots()\n",
    "for index, instance in enumerate(reduced_data):\n",
    "    # print instance, index, labels[index]\n",
    "    pca_comp_1, pca_comp_2 = reduced_data[index]\n",
    "    color = labels_color_map[labels[index]]\n",
    "    ax.scatter(pca_comp_1, pca_comp_2, c=color)\n",
    "plt.show()"
   ]
  },
  {
   "cell_type": "code",
   "execution_count": null,
   "id": "d74aa226",
   "metadata": {},
   "outputs": [],
   "source": []
  },
  {
   "cell_type": "code",
   "execution_count": null,
   "id": "9f024d10",
   "metadata": {},
   "outputs": [],
   "source": []
  },
  {
   "cell_type": "code",
   "execution_count": 26,
   "id": "8ea6e064",
   "metadata": {},
   "outputs": [],
   "source": [
    "## Plot the data\n",
    "#plt.scatter(X[:,0], \n",
    "#            X[:,1])\n",
    "#\n",
    "## Plot the clusters \n",
    "#plt.scatter(kmeans.cluster_centers_[:, 0], \n",
    "#            kmeans.cluster_centers_[:, 1], \n",
    "#            s=200,                             # Set centroid size\n",
    "#            c='red')                           # Set centroid color\n",
    "#plt.show()"
   ]
  },
  {
   "cell_type": "code",
   "execution_count": null,
   "id": "b27174b5",
   "metadata": {},
   "outputs": [],
   "source": []
  },
  {
   "cell_type": "code",
   "execution_count": null,
   "id": "38c6fc6d",
   "metadata": {},
   "outputs": [],
   "source": []
  },
  {
   "cell_type": "code",
   "execution_count": 3,
   "id": "f96d4c15",
   "metadata": {},
   "outputs": [],
   "source": [
    "#from sklearn.metrics.pairwise import pairwise_distances_argmin\n",
    "#fig = plt.figure(figsize=(8, 3))\n",
    "#fig.subplots_adjust(left=0.02, right=0.98, bottom=0.05, top=0.9)\n",
    "#colors = [\"#4EACC5\", \"#FF9C34\", \"#4E9A06\"]\n",
    "#\n",
    "## We want to have the same colors for the same cluster from the\n",
    "## MiniBatchKMeans and the KMeans algorithm. Let's pair the cluster centers per\n",
    "## closest one.\n",
    "#k_means_cluster_centers = kmeans.cluster_centers_\n",
    "#order = pairwise_distances_argmin(X, kmeans.cluster_centers_)\n",
    "#\n",
    "#k_means_labels = pairwise_distances_argmin(X, k_means_cluster_centers)\n",
    "##print(k_means_labels)\n",
    "#\n",
    "#plt.show()"
   ]
  },
  {
   "cell_type": "code",
   "execution_count": 2,
   "id": "12761df5",
   "metadata": {},
   "outputs": [],
   "source": [
    "#import matplotlib.pyplot as plt\n",
    "#import seaborn as sns\n",
    "#sns.set()\n",
    "#plt.style.use('seaborn-whitegrid')\n",
    "#plt.rc(\"figure\", autolayout=True)\n",
    "#plt.rc(\"axes\", labelweight='bold', labelsize='large', titleweight='bold', titlesize=14, titlepad=10)\n",
    "#sns.relplot(x='longitude', y='latitude', hue='labels', data=df, height=6)\n",
    "#plt.show()"
   ]
  },
  {
   "cell_type": "code",
   "execution_count": 1,
   "id": "a5d354a7",
   "metadata": {},
   "outputs": [],
   "source": [
    "#plt.scatter(X[:, 0], X[:, 1], c=labels, s=50, cmap='viridis')\n",
    "#\n",
    "#centers = kmeans.cluster_centers_\n",
    "#plt.scatter(centers[:, 0], centers[:, 1], c='black', s=200, alpha=0.5);"
   ]
  }
 ],
 "metadata": {
  "kernelspec": {
   "display_name": "Python 3 (ipykernel)",
   "language": "python",
   "name": "python3"
  },
  "language_info": {
   "codemirror_mode": {
    "name": "ipython",
    "version": 3
   },
   "file_extension": ".py",
   "mimetype": "text/x-python",
   "name": "python",
   "nbconvert_exporter": "python",
   "pygments_lexer": "ipython3",
   "version": "3.9.7"
  }
 },
 "nbformat": 4,
 "nbformat_minor": 5
}
